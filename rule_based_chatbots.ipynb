{
 "cells": [
  {
   "cell_type": "code",
   "execution_count": null,
   "id": "ac6a9499",
   "metadata": {},
   "outputs": [],
   "source": []
  },
  {
   "cell_type": "code",
   "execution_count": 1,
   "id": "7530ecab",
   "metadata": {},
   "outputs": [],
   "source": [
    "import re\n",
    "import random"
   ]
  },
  {
   "cell_type": "code",
   "execution_count": 2,
   "id": "f6efcf64",
   "metadata": {},
   "outputs": [],
   "source": [
    "class SupportBot:\n",
    "  negative_responses = (\"nothing\", \"don't\", \"stop\", \"sorry\")\n",
    "\n",
    "  exit_commands = (\"quit\", \"pause\", \"exit\", \"goodbye\", \"bye\", \"later\")\n",
    "\n",
    "  def __init__(self):\n",
    "    self.matching_phrases = {'how_to_pay_bill': [r'.*how.*pay bills.*', r'.*how.*pay my bill.*'], r'pay_bill': [r'.*want.*pay.*my.*bill.*account.*number.*is (\\d+)', r'.*need.*pay.*my.*bill.*account.*number.*is (\\d+)']}\n",
    "\n",
    "  def welcome(self):\n",
    "    self.name = input(\"Hi, I'm a customer support representative. Welcome to XXX Bank. Before we can help you, I need some information from you. What is your first name and last name? \")\n",
    "    \n",
    "    will_help = input(f\"Ok {self.name}, what can I help you with? \")\n",
    "    \n",
    "    if will_help in self.negative_responses:\n",
    "      print(\"Ok, have a great day!\")\n",
    "      return\n",
    "    \n",
    "    self.handle_conversation(will_help)\n",
    "  \n",
    "  def handle_conversation(self, reply):\n",
    "    while not self.make_exit(reply):\n",
    "      reply = self.match_reply(reply)\n",
    "      \n",
    "  def make_exit(self, reply):\n",
    "    for exit_command in self.exit_commands:\n",
    "      if exit_command in reply:\n",
    "        print(\"Ok, have a great day!\")\n",
    "        return True\n",
    "      \n",
    "    return False\n",
    "  \n",
    "  def match_reply(self, reply):\n",
    "    for key, values in self.matching_phrases.items():\n",
    "      for regex_pattern in values:\n",
    "        found_match = re.match(regex_pattern, reply.lower())\n",
    "        if found_match and key == 'how_to_pay_bill':\n",
    "          return self.how_to_pay_bill_intent()\n",
    "        elif found_match and key == 'pay_bill':\n",
    "          return self.pay_bill_intent(found_match.groups()[0])\n",
    "        \n",
    "    return input(\"I did not understand you. Can you please ask your question again?\")\n",
    "  \n",
    "  def how_to_pay_bill_intent(self):\n",
    "    return input(f\"You can pay your bill a couple of ways. 1) online at bill.xxx.com or 2) you can pay your bill right now with me. Can I help you with anything else, {self.name}? \")\n",
    "  \n",
    "  def pay_bill_intent(self, account_number=None):\n",
    "    return input(f\"The account with number {account_number} was paid off. What else can I help you with?\")"
   ]
  },
  {
   "cell_type": "code",
   "execution_count": 3,
   "id": "d4b1f9d8",
   "metadata": {},
   "outputs": [
    {
     "name": "stdout",
     "output_type": "stream",
     "text": [
      "Hi, I'm a customer support representative. Welcome to XXX Bank. Before we can help you, I need some information from you. What is your first name and last name? mary\n",
      "Ok mary, what can I help you with? how can i pay my bill\n",
      "You can pay your bill a couple of ways. 1) online at bill.xxx.com or 2) you can pay your bill right now with me. Can I help you with anything else, mary? later\n",
      "Ok, have a great day!\n"
     ]
    }
   ],
   "source": [
    "# Create a SupportBot instance\n",
    "SupportConversation = SupportBot()\n",
    "# Call the .welcome() method\n",
    "SupportConversation.welcome()"
   ]
  },
  {
   "cell_type": "code",
   "execution_count": null,
   "id": "dae6eede",
   "metadata": {},
   "outputs": [],
   "source": []
  }
 ],
 "metadata": {
  "kernelspec": {
   "display_name": "Python 3 (ipykernel)",
   "language": "python",
   "name": "python3"
  },
  "language_info": {
   "codemirror_mode": {
    "name": "ipython",
    "version": 3
   },
   "file_extension": ".py",
   "mimetype": "text/x-python",
   "name": "python",
   "nbconvert_exporter": "python",
   "pygments_lexer": "ipython3",
   "version": "3.8.11"
  }
 },
 "nbformat": 4,
 "nbformat_minor": 5
}
